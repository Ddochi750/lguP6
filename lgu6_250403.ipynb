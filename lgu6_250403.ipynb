{
 "cells": [
  {
   "cell_type": "code",
   "execution_count": null,
   "id": "221bade2-1dce-4944-9142-5c9f39001de5",
   "metadata": {},
   "outputs": [],
   "source": []
  },
  {
   "cell_type": "code",
   "execution_count": 1,
   "id": "634e07f8-b6e6-408b-81d1-5d62daa02109",
   "metadata": {},
   "outputs": [
    {
     "data": {
      "text/html": [
       "<div>\n",
       "<style scoped>\n",
       "    .dataframe tbody tr th:only-of-type {\n",
       "        vertical-align: middle;\n",
       "    }\n",
       "\n",
       "    .dataframe tbody tr th {\n",
       "        vertical-align: top;\n",
       "    }\n",
       "\n",
       "    .dataframe thead th {\n",
       "        text-align: right;\n",
       "    }\n",
       "</style>\n",
       "<table border=\"1\" class=\"dataframe\">\n",
       "  <thead>\n",
       "    <tr style=\"text-align: right;\">\n",
       "      <th></th>\n",
       "      <th>sepal_length</th>\n",
       "      <th>species</th>\n",
       "    </tr>\n",
       "  </thead>\n",
       "  <tbody>\n",
       "    <tr>\n",
       "      <th>0</th>\n",
       "      <td>5.1</td>\n",
       "      <td>setosa</td>\n",
       "    </tr>\n",
       "  </tbody>\n",
       "</table>\n",
       "</div>"
      ],
      "text/plain": [
       "   sepal_length species\n",
       "0           5.1  setosa"
      ]
     },
     "execution_count": 1,
     "metadata": {},
     "output_type": "execute_result"
    }
   ],
   "source": [
    "import pandas as pd\n",
    "import seaborn as sns\n",
    "\n",
    "iris = sns.load_dataset(\"iris\")\n",
    "result = iris.loc[:, ['sepal_length', 'species']]\n",
    "result.head(1)"
   ]
  },
  {
   "cell_type": "code",
   "execution_count": 2,
   "id": "b37022df-cf6e-4576-9baa-177b1f234023",
   "metadata": {},
   "outputs": [],
   "source": [
    "result.to_excel(\"dataset/iris_excel_file.xlsx\",\n",
    "                sheet_name= 'sheet_name_1',\n",
    "                index=False)"
   ]
  },
  {
   "cell_type": "code",
   "execution_count": null,
   "id": "17caea17-db99-4705-afb9-ee53531f8517",
   "metadata": {},
   "outputs": [],
   "source": [
    "# Group By 연산\n",
    "- 집계함수 같이 활용\n",
    "- 분석의 목적 : 그룹별로 비교하고 싶을 때 사용"
   ]
  },
  {
   "cell_type": "code",
   "execution_count": 3,
   "id": "2d7a8f5e-8770-489d-b128-f10f2b882856",
   "metadata": {},
   "outputs": [
    {
     "data": {
      "text/html": [
       "<div>\n",
       "<style scoped>\n",
       "    .dataframe tbody tr th:only-of-type {\n",
       "        vertical-align: middle;\n",
       "    }\n",
       "\n",
       "    .dataframe tbody tr th {\n",
       "        vertical-align: top;\n",
       "    }\n",
       "\n",
       "    .dataframe thead th {\n",
       "        text-align: right;\n",
       "    }\n",
       "</style>\n",
       "<table border=\"1\" class=\"dataframe\">\n",
       "  <thead>\n",
       "    <tr style=\"text-align: right;\">\n",
       "      <th></th>\n",
       "      <th>total_bill</th>\n",
       "      <th>tip</th>\n",
       "      <th>sex</th>\n",
       "      <th>smoker</th>\n",
       "      <th>day</th>\n",
       "      <th>time</th>\n",
       "      <th>size</th>\n",
       "    </tr>\n",
       "  </thead>\n",
       "  <tbody>\n",
       "    <tr>\n",
       "      <th>0</th>\n",
       "      <td>16.99</td>\n",
       "      <td>1.01</td>\n",
       "      <td>Female</td>\n",
       "      <td>No</td>\n",
       "      <td>Sun</td>\n",
       "      <td>Dinner</td>\n",
       "      <td>2</td>\n",
       "    </tr>\n",
       "  </tbody>\n",
       "</table>\n",
       "</div>"
      ],
      "text/plain": [
       "   total_bill   tip     sex smoker  day    time  size\n",
       "0       16.99  1.01  Female     No  Sun  Dinner     2"
      ]
     },
     "execution_count": 3,
     "metadata": {},
     "output_type": "execute_result"
    }
   ],
   "source": [
    "import seaborn as sns\n",
    "tips = sns.load_dataset(\"tips\")\n",
    "tips.head(1)"
   ]
  },
  {
   "cell_type": "markdown",
   "id": "c9422a95-60f3-4b2e-a7da-a04d3996ae5f",
   "metadata": {},
   "source": [
    "성별로 tip 평균 구하기"
   ]
  },
  {
   "cell_type": "code",
   "execution_count": 4,
   "id": "e7a9b3da-4bb7-471e-8c69-af47d35d5f4d",
   "metadata": {},
   "outputs": [
    {
     "data": {
      "text/plain": [
       "sex\n",
       "Male      3.089618\n",
       "Female    2.833448\n",
       "Name: tip, dtype: float64"
      ]
     },
     "execution_count": 4,
     "metadata": {},
     "output_type": "execute_result"
    }
   ],
   "source": [
    "tips.groupby('sex', observed=True)['tip'].mean()\n",
    "\n",
    "# 통계적으로 유의한가 : 기초 통계 영역으로 넘어감."
   ]
  },
  {
   "cell_type": "markdown",
   "id": "9f87f06a-5147-4ce6-b28c-b6b08016c500",
   "metadata": {},
   "source": [
    "## 요일별 총 결제 금액 구하기"
   ]
  },
  {
   "cell_type": "code",
   "execution_count": 5,
   "id": "a27dc3ac-7c83-4eba-8035-43df219933d0",
   "metadata": {},
   "outputs": [
    {
     "data": {
      "text/plain": [
       "day\n",
       "Thur    1096.33\n",
       "Fri      325.88\n",
       "Sat     1778.40\n",
       "Sun     1627.16\n",
       "Name: total_bill, dtype: float64"
      ]
     },
     "execution_count": 5,
     "metadata": {},
     "output_type": "execute_result"
    }
   ],
   "source": [
    "# 요일별 총 결제 금액 구하기\n",
    "# 집계함수: sum()\n",
    "tips.groupby('day', observed=True)['total_bill'].sum()"
   ]
  },
  {
   "cell_type": "markdown",
   "id": "a4a2cd0a-79f5-44ff-b564-ec2391572db7",
   "metadata": {},
   "source": [
    "## 요일 & 성별로 팁 평균"
   ]
  },
  {
   "cell_type": "code",
   "execution_count": 6,
   "id": "1f4b1580-ec6c-40ee-b9bd-07b11fb79951",
   "metadata": {},
   "outputs": [
    {
     "data": {
      "text/plain": [
       "day   sex   \n",
       "Thur  Male       89.41\n",
       "      Female     82.42\n",
       "Fri   Male       26.93\n",
       "      Female     25.03\n",
       "Sat   Male      181.95\n",
       "      Female     78.45\n",
       "Sun   Male      186.78\n",
       "      Female     60.61\n",
       "Name: tip, dtype: float64"
      ]
     },
     "execution_count": 6,
     "metadata": {},
     "output_type": "execute_result"
    }
   ],
   "source": [
    "tips.groupby(['day', 'sex'], observed=True)['tip'].sum()"
   ]
  },
  {
   "cell_type": "markdown",
   "id": "5317b887-7df6-49dd-a001-f752bbcedade",
   "metadata": {},
   "source": [
    "식사 시간별 인원 수 평균"
   ]
  },
  {
   "cell_type": "markdown",
   "id": "35cecaf6-890f-442b-aa58-4f19600e8b80",
   "metadata": {},
   "source": [
    "time, size"
   ]
  },
  {
   "cell_type": "code",
   "execution_count": 7,
   "id": "b5c3beda-8655-476b-8075-6e3a2643eabe",
   "metadata": {},
   "outputs": [
    {
     "name": "stderr",
     "output_type": "stream",
     "text": [
      "C:\\Users\\Admin\\AppData\\Local\\Temp\\ipykernel_13676\\1675270889.py:1: FutureWarning: The default of observed=False is deprecated and will be changed to True in a future version of pandas. Pass observed=False to retain current behavior or observed=True to adopt the future default and silence this warning.\n",
      "  tips.groupby('time')['size'].mean()\n"
     ]
    },
    {
     "data": {
      "text/plain": [
       "time\n",
       "Lunch     2.411765\n",
       "Dinner    2.630682\n",
       "Name: size, dtype: float64"
      ]
     },
     "execution_count": 7,
     "metadata": {},
     "output_type": "execute_result"
    }
   ],
   "source": [
    "tips.groupby('time')['size'].mean()"
   ]
  },
  {
   "cell_type": "code",
   "execution_count": null,
   "id": "472db3f3-483d-4768-9a58-9a928bc0975c",
   "metadata": {},
   "outputs": [],
   "source": [
    "## 두가지 범주 그룹바이 출력 변환"
   ]
  },
  {
   "cell_type": "code",
   "execution_count": 9,
   "id": "4e351da0-237c-4463-b4f6-42dcca534955",
   "metadata": {},
   "outputs": [
    {
     "data": {
      "text/html": [
       "<div>\n",
       "<style scoped>\n",
       "    .dataframe tbody tr th:only-of-type {\n",
       "        vertical-align: middle;\n",
       "    }\n",
       "\n",
       "    .dataframe tbody tr th {\n",
       "        vertical-align: top;\n",
       "    }\n",
       "\n",
       "    .dataframe thead th {\n",
       "        text-align: right;\n",
       "    }\n",
       "</style>\n",
       "<table border=\"1\" class=\"dataframe\">\n",
       "  <thead>\n",
       "    <tr style=\"text-align: right;\">\n",
       "      <th>sex</th>\n",
       "      <th>Male</th>\n",
       "      <th>Female</th>\n",
       "    </tr>\n",
       "    <tr>\n",
       "      <th>day</th>\n",
       "      <th></th>\n",
       "      <th></th>\n",
       "    </tr>\n",
       "  </thead>\n",
       "  <tbody>\n",
       "    <tr>\n",
       "      <th>Thur</th>\n",
       "      <td>2.980333</td>\n",
       "      <td>2.575625</td>\n",
       "    </tr>\n",
       "    <tr>\n",
       "      <th>Fri</th>\n",
       "      <td>2.693000</td>\n",
       "      <td>2.781111</td>\n",
       "    </tr>\n",
       "    <tr>\n",
       "      <th>Sat</th>\n",
       "      <td>3.083898</td>\n",
       "      <td>2.801786</td>\n",
       "    </tr>\n",
       "    <tr>\n",
       "      <th>Sun</th>\n",
       "      <td>3.220345</td>\n",
       "      <td>3.367222</td>\n",
       "    </tr>\n",
       "  </tbody>\n",
       "</table>\n",
       "</div>"
      ],
      "text/plain": [
       "sex       Male    Female\n",
       "day                     \n",
       "Thur  2.980333  2.575625\n",
       "Fri   2.693000  2.781111\n",
       "Sat   3.083898  2.801786\n",
       "Sun   3.220345  3.367222"
      ]
     },
     "execution_count": 9,
     "metadata": {},
     "output_type": "execute_result"
    }
   ],
   "source": [
    "result = tips.groupby(['day', 'sex'], observed=True)['tip'].mean()\n",
    "result.unstack() # 히트맵 시각화로 바로 적용"
   ]
  },
  {
   "cell_type": "markdown",
   "id": "35843f83-f139-4c49-8656-9b01f65006d3",
   "metadata": {},
   "source": [
    "## 집계함수 2개 사용하기"
   ]
  },
  {
   "cell_type": "code",
   "execution_count": 14,
   "id": "f9ee048b-5403-4ed8-8fa1-34123ac41ad0",
   "metadata": {},
   "outputs": [
    {
     "data": {
      "text/html": [
       "<div>\n",
       "<style scoped>\n",
       "    .dataframe tbody tr th:only-of-type {\n",
       "        vertical-align: middle;\n",
       "    }\n",
       "\n",
       "    .dataframe tbody tr th {\n",
       "        vertical-align: top;\n",
       "    }\n",
       "\n",
       "    .dataframe thead th {\n",
       "        text-align: right;\n",
       "    }\n",
       "</style>\n",
       "<table border=\"1\" class=\"dataframe\">\n",
       "  <thead>\n",
       "    <tr style=\"text-align: right;\">\n",
       "      <th></th>\n",
       "      <th>day</th>\n",
       "      <th>sex</th>\n",
       "      <th>tip_sum</th>\n",
       "      <th>tip_mean</th>\n",
       "      <th>total_bill_sum</th>\n",
       "      <th>total_bill_mean</th>\n",
       "    </tr>\n",
       "  </thead>\n",
       "  <tbody>\n",
       "    <tr>\n",
       "      <th>0</th>\n",
       "      <td>Thur</td>\n",
       "      <td>Male</td>\n",
       "      <td>89.41</td>\n",
       "      <td>2.980333</td>\n",
       "      <td>561.44</td>\n",
       "      <td>18.714667</td>\n",
       "    </tr>\n",
       "    <tr>\n",
       "      <th>1</th>\n",
       "      <td>Thur</td>\n",
       "      <td>Female</td>\n",
       "      <td>82.42</td>\n",
       "      <td>2.575625</td>\n",
       "      <td>534.89</td>\n",
       "      <td>16.715312</td>\n",
       "    </tr>\n",
       "    <tr>\n",
       "      <th>2</th>\n",
       "      <td>Fri</td>\n",
       "      <td>Male</td>\n",
       "      <td>26.93</td>\n",
       "      <td>2.693000</td>\n",
       "      <td>198.57</td>\n",
       "      <td>19.857000</td>\n",
       "    </tr>\n",
       "    <tr>\n",
       "      <th>3</th>\n",
       "      <td>Fri</td>\n",
       "      <td>Female</td>\n",
       "      <td>25.03</td>\n",
       "      <td>2.781111</td>\n",
       "      <td>127.31</td>\n",
       "      <td>14.145556</td>\n",
       "    </tr>\n",
       "    <tr>\n",
       "      <th>4</th>\n",
       "      <td>Sat</td>\n",
       "      <td>Male</td>\n",
       "      <td>181.95</td>\n",
       "      <td>3.083898</td>\n",
       "      <td>1227.35</td>\n",
       "      <td>20.802542</td>\n",
       "    </tr>\n",
       "    <tr>\n",
       "      <th>5</th>\n",
       "      <td>Sat</td>\n",
       "      <td>Female</td>\n",
       "      <td>78.45</td>\n",
       "      <td>2.801786</td>\n",
       "      <td>551.05</td>\n",
       "      <td>19.680357</td>\n",
       "    </tr>\n",
       "    <tr>\n",
       "      <th>6</th>\n",
       "      <td>Sun</td>\n",
       "      <td>Male</td>\n",
       "      <td>186.78</td>\n",
       "      <td>3.220345</td>\n",
       "      <td>1269.46</td>\n",
       "      <td>21.887241</td>\n",
       "    </tr>\n",
       "    <tr>\n",
       "      <th>7</th>\n",
       "      <td>Sun</td>\n",
       "      <td>Female</td>\n",
       "      <td>60.61</td>\n",
       "      <td>3.367222</td>\n",
       "      <td>357.70</td>\n",
       "      <td>19.872222</td>\n",
       "    </tr>\n",
       "  </tbody>\n",
       "</table>\n",
       "</div>"
      ],
      "text/plain": [
       "    day     sex  tip_sum  tip_mean  total_bill_sum  total_bill_mean\n",
       "0  Thur    Male    89.41  2.980333          561.44        18.714667\n",
       "1  Thur  Female    82.42  2.575625          534.89        16.715312\n",
       "2   Fri    Male    26.93  2.693000          198.57        19.857000\n",
       "3   Fri  Female    25.03  2.781111          127.31        14.145556\n",
       "4   Sat    Male   181.95  3.083898         1227.35        20.802542\n",
       "5   Sat  Female    78.45  2.801786          551.05        19.680357\n",
       "6   Sun    Male   186.78  3.220345         1269.46        21.887241\n",
       "7   Sun  Female    60.61  3.367222          357.70        19.872222"
      ]
     },
     "execution_count": 14,
     "metadata": {},
     "output_type": "execute_result"
    }
   ],
   "source": [
    "# tips.groupby(['day', 'sex'], observed=True)['tip'].agg(['sum','mean']) (잘기억하기)\n",
    "result = tips.groupby(['day', 'sex'], observed=True)[['tip', 'total_bill']].agg(['sum','mean'])\n",
    "result.columns = ['_'.join(col) for col in result.columns]\n",
    "result.reset_index()"
   ]
  },
  {
   "cell_type": "code",
   "execution_count": null,
   "id": "34bc432d-1782-4ed1-a527-f0b3ae902d8c",
   "metadata": {},
   "outputs": [],
   "source": []
  }
 ],
 "metadata": {
  "kernelspec": {
   "display_name": "Python 3 (ipykernel)",
   "language": "python",
   "name": "python3"
  },
  "language_info": {
   "codemirror_mode": {
    "name": "ipython",
    "version": 3
   },
   "file_extension": ".py",
   "mimetype": "text/x-python",
   "name": "python",
   "nbconvert_exporter": "python",
   "pygments_lexer": "ipython3",
   "version": "3.13.2"
  }
 },
 "nbformat": 4,
 "nbformat_minor": 5
}
