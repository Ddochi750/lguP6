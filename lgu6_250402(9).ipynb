import seaborn as sns 
import pandas as pd 

iris = sns.load_dataset("iris")
result = iris.loc[:, ['sepal_length', 'species']]
result
